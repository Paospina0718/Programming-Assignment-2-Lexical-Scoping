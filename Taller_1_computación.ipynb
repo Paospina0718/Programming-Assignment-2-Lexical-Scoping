{
  "nbformat": 4,
  "nbformat_minor": 0,
  "metadata": {
    "colab": {
      "name": "Taller 1-computación",
      "provenance": [],
      "authorship_tag": "ABX9TyNGaJPY+hTnuDZ6imW/V+AT",
      "include_colab_link": true
    },
    "kernelspec": {
      "name": "python3",
      "display_name": "Python 3"
    },
    "language_info": {
      "name": "python"
    }
  },
  "cells": [
    {
      "cell_type": "markdown",
      "metadata": {
        "id": "view-in-github",
        "colab_type": "text"
      },
      "source": [
        "<a href=\"https://colab.research.google.com/github/Paospina0718/Programming-Assignment-2-Lexical-Scoping/blob/main/Taller_1_computaci%C3%B3n.ipynb\" target=\"_parent\"><img src=\"https://colab.research.google.com/assets/colab-badge.svg\" alt=\"Open In Colab\"/></a>"
      ]
    },
    {
      "cell_type": "markdown",
      "source": [
        "Taller #1- Computación y estadística\n",
        "\n",
        "PAOLA ANDREA OSPINA SANCHEZ"
      ],
      "metadata": {
        "id": "kC83BRUB6lil"
      }
    },
    {
      "cell_type": "code",
      "source": [
        "import pandas as pd\n",
        "import array\n",
        "from tabulate import tabulate"
      ],
      "metadata": {
        "id": "D5-KWiUb7-1j"
      },
      "execution_count": 12,
      "outputs": []
    },
    {
      "cell_type": "markdown",
      "source": [
        "PUNTO 1- Cargar un archivo de excel (con una ruta permenanate en drive) (apoyarse en el modulo pandas)"
      ],
      "metadata": {
        "id": "hhKAJs_ZAd0y"
      }
    },
    {
      "cell_type": "code",
      "source": [
        "File=pd.ExcelFile('/content/drive/MyDrive/Colab Notebooks/DATOS_COMPUTACIÓN.xlsx')"
      ],
      "metadata": {
        "id": "nAFmZk6nGqpp"
      },
      "execution_count": 10,
      "outputs": []
    },
    {
      "cell_type": "markdown",
      "source": [
        "PUNTO 2- Colocar una imagen desde internet\n",
        "\n",
        "*[Link de la imagen](https://concepto.de/wp-content/uploads/2015/03/paisaje-800x409.jpg) "
      ],
      "metadata": {
        "id": "haban8yVAlj3"
      }
    },
    {
      "cell_type": "markdown",
      "source": [
        "![paisaje](https://concepto.de/wp-content/uploads/2015/03/paisaje-800x409.jpg)"
      ],
      "metadata": {
        "id": "ESs9s5KFEqQ_"
      }
    },
    {
      "cell_type": "markdown",
      "source": [
        "PUNTO 3- Escribir una matrix 4x4 (en LATEX )"
      ],
      "metadata": {
        "id": "NHTI8-VMAUKZ"
      }
    },
    {
      "cell_type": "markdown",
      "source": [
        "$$\\begin{bmatrix}\n",
        " 1& 1 & 3 & -2 \\\\\n",
        " 2&  -4& 7 &  2\\\\\n",
        " 3& -2 & 9 &  -1\\\\\n",
        " 1&  3&  -1&  1\\\\\n",
        "\\end{bmatrix}$$"
      ],
      "metadata": {
        "id": "OkOxIHwYALxM"
      }
    },
    {
      "cell_type": "markdown",
      "source": [
        "PUNTO 4-¿Como crear un tabla? (en LATEX )"
      ],
      "metadata": {
        "id": "2QrakgLnBBBA"
      }
    },
    {
      "cell_type": "markdown",
      "source": [
        "\\begin{array}{|c|c|} \\hline\n",
        " Parcial 1 & Parcial2 & Parcial3 & Parcial4 \\\\ \\hline\n",
        "2,5 & 3,1 & 2,9 & 3,8 \\\\\n",
        "3,2 & 4,4 & 3,2 & 4,3 \\\\\n",
        "4,1 & 4,2 & 4 & 3,5 \\\\ \\hline\n",
        "\\end{array}"
      ],
      "metadata": {
        "id": "6IVSJOHQacFi"
      }
    },
    {
      "cell_type": "markdown",
      "source": [
        "Punto 5- Copiar una ecuación estadistica (en LATEX )\n",
        "\n",
        "Media Aritmética"
      ],
      "metadata": {
        "id": "iSMz6GDhBFwW"
      }
    },
    {
      "cell_type": "markdown",
      "source": [
        "## **$$\\mu=\\frac{\\sum_{i=1}^{N} \\chi_i}{N}$$**"
      ],
      "metadata": {
        "id": "B0_1hIMKCWwm"
      }
    }
  ]
}